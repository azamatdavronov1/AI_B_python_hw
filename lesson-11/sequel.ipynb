{
 "cells": [
  {
   "metadata": {
    "ExecuteTime": {
     "end_time": "2025-03-09T11:49:31.560595Z",
     "start_time": "2025-03-09T11:49:31.555094Z"
    }
   },
   "cell_type": "code",
   "source": "import sqlite3\n",
   "id": "faf5f4f60cfc47dd",
   "outputs": [],
   "execution_count": 15
  },
  {
   "metadata": {
    "ExecuteTime": {
     "end_time": "2025-03-09T11:49:31.567312Z",
     "start_time": "2025-03-09T11:49:31.562598Z"
    }
   },
   "cell_type": "code",
   "source": "connection = sqlite3.connect('test.db')",
   "id": "e733de08739bc85",
   "outputs": [],
   "execution_count": 16
  },
  {
   "metadata": {
    "ExecuteTime": {
     "end_time": "2025-03-09T11:49:31.573437Z",
     "start_time": "2025-03-09T11:49:31.567312Z"
    }
   },
   "cell_type": "code",
   "source": "type(connection)",
   "id": "7d9dad10eedd0b67",
   "outputs": [
    {
     "data": {
      "text/plain": [
       "sqlite3.Connection"
      ]
     },
     "execution_count": 17,
     "metadata": {},
     "output_type": "execute_result"
    }
   ],
   "execution_count": 17
  },
  {
   "metadata": {
    "ExecuteTime": {
     "end_time": "2025-03-09T11:49:31.577694Z",
     "start_time": "2025-03-09T11:49:31.573437Z"
    }
   },
   "cell_type": "code",
   "source": [
    "con = sqlite3.connect(\":memory:\")\n",
    "\n",
    "query = \"Select datetime('now', 'localtime')\"\n",
    "cursor = con.cursor()\n",
    "time = cursor.execute(query)\n",
    "\n",
    "time.fetchone()\n",
    "\n",
    "con.close()"
   ],
   "id": "3f9dd37b782a964",
   "outputs": [],
   "execution_count": 18
  },
  {
   "metadata": {},
   "cell_type": "markdown",
   "source": "# Using \"With\" keyword",
   "id": "24329a4f0187411"
  },
  {
   "metadata": {
    "ExecuteTime": {
     "end_time": "2025-03-09T11:49:31.583233Z",
     "start_time": "2025-03-09T11:49:31.577694Z"
    }
   },
   "cell_type": "code",
   "source": [
    "with sqlite3.connect(\"test.db\") as connection:\n",
    "    cursor = connection.cursor()\n",
    "    query = \"Select datetime('now', 'localtime')\"\n",
    "    data = cursor.execute(query)\n",
    "data.fetchmany(1)"
   ],
   "id": "2577325ca3476323",
   "outputs": [
    {
     "data": {
      "text/plain": [
       "[('2025-03-09 16:49:31',)]"
      ]
     },
     "execution_count": 19,
     "metadata": {},
     "output_type": "execute_result"
    }
   ],
   "execution_count": 19
  },
  {
   "metadata": {
    "ExecuteTime": {
     "end_time": "2025-03-09T11:49:31.601564Z",
     "start_time": "2025-03-09T11:49:31.592251Z"
    }
   },
   "cell_type": "code",
   "source": [
    "with sqlite3.connect(\"students.db\") as connection:\n",
    "    cursor = connection.cursor()\n",
    "    query = \"CREATE TABLE IF NOT EXISTS Students(fname TEXT, lname TEXT, age INT);\"\n",
    "    cursor.execute(query)\n"
   ],
   "id": "f90c7fa44abc9e4f",
   "outputs": [],
   "execution_count": 20
  },
  {
   "metadata": {
    "ExecuteTime": {
     "end_time": "2025-03-09T11:49:31.614935Z",
     "start_time": "2025-03-09T11:49:31.601564Z"
    }
   },
   "cell_type": "code",
   "source": [
    "with sqlite3.connect(\"students.db\") as connection:\n",
    "    cursor = connection.cursor()\n",
    "    query = \"Insert into Students Values( 'Ali', 'Valiev', 22);\"\n",
    "    data = cursor.execute(query)"
   ],
   "id": "35a3609c3e457a33",
   "outputs": [],
   "execution_count": 21
  },
  {
   "metadata": {
    "ExecuteTime": {
     "end_time": "2025-03-09T11:59:03.697869Z",
     "start_time": "2025-03-09T11:59:03.694732Z"
    }
   },
   "cell_type": "code",
   "source": [
    "create = \"\"\"\n",
    "Create table if not exists Students(fname text, lname text, age int);\n",
    "\"\"\"\n",
    "insert = \"\"\"\n",
    "Insert into Students Values( 'Al Azamat', 'Valiev', 22);\n",
    "\"\"\"\n",
    "delete = \"\"\"\n",
    "Drop table Students\n",
    "\"\"\""
   ],
   "id": "2b90d46006d39eff",
   "outputs": [],
   "execution_count": 28
  },
  {
   "metadata": {
    "ExecuteTime": {
     "end_time": "2025-03-09T11:59:04.161197Z",
     "start_time": "2025-03-09T11:59:04.131390Z"
    }
   },
   "cell_type": "code",
   "source": [
    "with sqlite3.connect(\"studentsTest.db\") as con:\n",
    "    cursor = con.cursor()\n",
    "    cursor.execute(create)\n",
    "    cursor.execute(insert)"
   ],
   "id": "bff506d9281457ed",
   "outputs": [],
   "execution_count": 29
  },
  {
   "metadata": {
    "ExecuteTime": {
     "end_time": "2025-03-09T11:59:04.575272Z",
     "start_time": "2025-03-09T11:59:04.567849Z"
    }
   },
   "cell_type": "code",
   "source": [
    "import sqlite3\n",
    "\n",
    "conn = sqlite3.connect(\"studentsTest.db\")\n",
    "cursor = conn.cursor()\n",
    "\n",
    "cursor.execute(\"SELECT * FROM Students\")\n",
    "rows = cursor.fetchall()\n",
    "\n",
    "for row in rows:\n",
    "    print(row)\n",
    "\n",
    "conn.close()\n"
   ],
   "id": "2f542bcbf4a9d529",
   "outputs": [
    {
     "name": "stdout",
     "output_type": "stream",
     "text": [
      "('Al Azamat', 'Valiev', 22)\n"
     ]
    }
   ],
   "execution_count": 30
  },
  {
   "metadata": {
    "ExecuteTime": {
     "end_time": "2025-03-09T12:03:38.042638Z",
     "start_time": "2025-03-09T12:03:38.039650Z"
    }
   },
   "cell_type": "code",
   "source": [
    "sql = \"\"\"\n",
    "Create table Studentlar(name text, age int);\n",
    "Drop table Studentlar\n",
    "Insert into Studentlar Values\n",
    "(\"Ali\", \"Valiev\", 22),\n",
    "(\"George\", \"Ryan\", 12),\n",
    "\"\"\""
   ],
   "id": "3fa9a2897d540b17",
   "outputs": [],
   "execution_count": 34
  },
  {
   "metadata": {
    "ExecuteTime": {
     "end_time": "2025-03-09T12:38:09.774271Z",
     "start_time": "2025-03-09T12:38:09.737840Z"
    }
   },
   "cell_type": "code",
   "source": [
    "with sqlite3.connect(\"Studentlar.db\") as conn:\n",
    "    cursor = conn.cursor()\n",
    "    cursor.executescript(sql)"
   ],
   "id": "5bbb4b0bf037c7e",
   "outputs": [
    {
     "ename": "OperationalError",
     "evalue": "near \"Insert\": syntax error",
     "output_type": "error",
     "traceback": [
      "\u001B[1;31m---------------------------------------------------------------------------\u001B[0m",
      "\u001B[1;31mOperationalError\u001B[0m                          Traceback (most recent call last)",
      "Cell \u001B[1;32mIn[40], line 3\u001B[0m\n\u001B[0;32m      1\u001B[0m \u001B[38;5;28;01mwith\u001B[39;00m sqlite3\u001B[38;5;241m.\u001B[39mconnect(\u001B[38;5;124m\"\u001B[39m\u001B[38;5;124mStudentlar.db\u001B[39m\u001B[38;5;124m\"\u001B[39m) \u001B[38;5;28;01mas\u001B[39;00m conn:\n\u001B[0;32m      2\u001B[0m     cursor \u001B[38;5;241m=\u001B[39m conn\u001B[38;5;241m.\u001B[39mcursor()\n\u001B[1;32m----> 3\u001B[0m     \u001B[43mcursor\u001B[49m\u001B[38;5;241;43m.\u001B[39;49m\u001B[43mexecutescript\u001B[49m\u001B[43m(\u001B[49m\u001B[43msql\u001B[49m\u001B[43m)\u001B[49m\n",
      "\u001B[1;31mOperationalError\u001B[0m: near \"Insert\": syntax error"
     ]
    }
   ],
   "execution_count": 40
  },
  {
   "metadata": {
    "ExecuteTime": {
     "end_time": "2025-03-09T12:38:10.059400Z",
     "start_time": "2025-03-09T12:38:10.049874Z"
    }
   },
   "cell_type": "code",
   "source": [
    "import sqlite3\n",
    "\n",
    "conn = sqlite3.connect(\"studentsTest.db\")\n",
    "cursor = conn.cursor()\n",
    "\n",
    "cursor.execute(\"SELECT * FROM Students\")\n",
    "rows = cursor.fetchall()\n",
    "\n",
    "for row in rows:\n",
    "    print(row)\n",
    "\n",
    "conn.close()"
   ],
   "id": "fe65509d602bcfb9",
   "outputs": [
    {
     "name": "stdout",
     "output_type": "stream",
     "text": [
      "('Al Azamat', 'Valiev', 22)\n",
      "('Al Azamat', 'Valiev', 22)\n",
      "('Al Azamat', 'Valiev', 22)\n",
      "('Al Azamat', 'Valiev', 22)\n"
     ]
    }
   ],
   "execution_count": 41
  },
  {
   "metadata": {},
   "cell_type": "code",
   "outputs": [],
   "execution_count": null,
   "source": "",
   "id": "2a099d35fd7acd07"
  }
 ],
 "metadata": {
  "kernelspec": {
   "display_name": "Python 3",
   "language": "python",
   "name": "python3"
  },
  "language_info": {
   "codemirror_mode": {
    "name": "ipython",
    "version": 2
   },
   "file_extension": ".py",
   "mimetype": "text/x-python",
   "name": "python",
   "nbconvert_exporter": "python",
   "pygments_lexer": "ipython2",
   "version": "2.7.6"
  }
 },
 "nbformat": 4,
 "nbformat_minor": 5
}
