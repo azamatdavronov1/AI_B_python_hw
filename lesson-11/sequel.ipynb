{
 "cells": [
  {
   "cell_type": "code",
   "id": "initial_id",
   "metadata": {
    "collapsed": true,
    "ExecuteTime": {
     "end_time": "2025-03-06T15:30:37.957808Z",
     "start_time": "2025-03-06T15:30:37.952931Z"
    }
   },
   "source": [
    "import sqlite3\n",
    "\n",
    "import _sqlite3"
   ],
   "outputs": [],
   "execution_count": 13
  },
  {
   "metadata": {
    "ExecuteTime": {
     "end_time": "2025-03-06T15:30:38.768908Z",
     "start_time": "2025-03-06T15:30:38.762927Z"
    }
   },
   "cell_type": "code",
   "source": "connection = _sqlite3.connect(\"test.db\")",
   "id": "4843f18fff449b3b",
   "outputs": [],
   "execution_count": 14
  },
  {
   "metadata": {
    "ExecuteTime": {
     "end_time": "2025-03-06T15:30:39.813206Z",
     "start_time": "2025-03-06T15:30:39.807071Z"
    }
   },
   "cell_type": "code",
   "source": "type(connection)",
   "id": "ad4bc4d048c7ff0c",
   "outputs": [
    {
     "data": {
      "text/plain": [
       "sqlite3.Connection"
      ]
     },
     "execution_count": 15,
     "metadata": {},
     "output_type": "execute_result"
    }
   ],
   "execution_count": 15
  },
  {
   "metadata": {
    "ExecuteTime": {
     "end_time": "2025-03-06T15:31:17.877917Z",
     "start_time": "2025-03-06T15:31:17.858200Z"
    }
   },
   "cell_type": "code",
   "source": [
    "con = _sqlite3.connect(\":memory:\")\n",
    "query = \"Select data\"\n",
    "cursor = con.cursor()\n",
    "time = cursor.execute(query)\n",
    "\n",
    "time.fetchone()"
   ],
   "id": "e3236a60c951f0a0",
   "outputs": [
    {
     "ename": "OperationalError",
     "evalue": "no such column: data",
     "output_type": "error",
     "traceback": [
      "\u001B[1;31m---------------------------------------------------------------------------\u001B[0m",
      "\u001B[1;31mOperationalError\u001B[0m                          Traceback (most recent call last)",
      "Cell \u001B[1;32mIn[17], line 4\u001B[0m\n\u001B[0;32m      2\u001B[0m query \u001B[38;5;241m=\u001B[39m \u001B[38;5;124m\"\u001B[39m\u001B[38;5;124mSelect data\u001B[39m\u001B[38;5;124m\"\u001B[39m\n\u001B[0;32m      3\u001B[0m cursor \u001B[38;5;241m=\u001B[39m con\u001B[38;5;241m.\u001B[39mcursor()\n\u001B[1;32m----> 4\u001B[0m time \u001B[38;5;241m=\u001B[39m \u001B[43mcursor\u001B[49m\u001B[38;5;241;43m.\u001B[39;49m\u001B[43mexecute\u001B[49m\u001B[43m(\u001B[49m\u001B[43mquery\u001B[49m\u001B[43m)\u001B[49m\n\u001B[0;32m      6\u001B[0m time\u001B[38;5;241m.\u001B[39mfetchone()\n",
      "\u001B[1;31mOperationalError\u001B[0m: no such column: data"
     ]
    }
   ],
   "execution_count": 17
  },
  {
   "metadata": {
    "ExecuteTime": {
     "end_time": "2025-03-06T15:29:41.768517Z",
     "start_time": "2025-03-06T15:29:41.767519Z"
    }
   },
   "cell_type": "code",
   "source": "",
   "id": "522fd0f9c1bea270",
   "outputs": [],
   "execution_count": null
  }
 ],
 "metadata": {
  "kernelspec": {
   "display_name": "Python 3",
   "language": "python",
   "name": "python3"
  },
  "language_info": {
   "codemirror_mode": {
    "name": "ipython",
    "version": 2
   },
   "file_extension": ".py",
   "mimetype": "text/x-python",
   "name": "python",
   "nbconvert_exporter": "python",
   "pygments_lexer": "ipython2",
   "version": "2.7.6"
  }
 },
 "nbformat": 4,
 "nbformat_minor": 5
}
