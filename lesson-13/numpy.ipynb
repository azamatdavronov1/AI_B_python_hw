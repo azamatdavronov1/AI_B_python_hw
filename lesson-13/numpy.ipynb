{
 "cells": [
  {
   "cell_type": "code",
   "id": "initial_id",
   "metadata": {
    "collapsed": true,
    "ExecuteTime": {
     "end_time": "2025-03-13T05:53:43.320597Z",
     "start_time": "2025-03-13T05:53:43.318487Z"
    }
   },
   "source": "l1 = [1, 2, 3, 4]",
   "outputs": [],
   "execution_count": 2
  },
  {
   "metadata": {
    "ExecuteTime": {
     "end_time": "2025-03-13T05:53:43.353001Z",
     "start_time": "2025-03-13T05:53:43.350006Z"
    }
   },
   "cell_type": "code",
   "source": [
    "l2 = [\n",
    "    [1, 2, 3],\n",
    "    [4, 5, 6]\n",
    "]"
   ],
   "id": "2623a41ab5b77cf2",
   "outputs": [],
   "execution_count": 3
  },
  {
   "metadata": {
    "ExecuteTime": {
     "end_time": "2025-03-13T05:53:43.393276Z",
     "start_time": "2025-03-13T05:53:43.387068Z"
    }
   },
   "cell_type": "code",
   "source": "[[j+2 for j in i] for i in l2]",
   "id": "922fec7537b724dc",
   "outputs": [
    {
     "data": {
      "text/plain": [
       "[[3, 4, 5], [6, 7, 8]]"
      ]
     },
     "execution_count": 4,
     "metadata": {},
     "output_type": "execute_result"
    }
   ],
   "execution_count": 4
  },
  {
   "metadata": {
    "ExecuteTime": {
     "end_time": "2025-03-13T05:53:44.361885Z",
     "start_time": "2025-03-13T05:53:43.394783Z"
    }
   },
   "cell_type": "code",
   "source": [
    "import numpy as np\n",
    "a = np.array([1, 2, 3, 4])\n",
    "a"
   ],
   "id": "45a00ac831c2c48b",
   "outputs": [
    {
     "data": {
      "text/plain": [
       "array([1, 2, 3, 4])"
      ]
     },
     "execution_count": 5,
     "metadata": {},
     "output_type": "execute_result"
    }
   ],
   "execution_count": 5
  },
  {
   "metadata": {
    "ExecuteTime": {
     "end_time": "2025-03-13T05:53:44.367679Z",
     "start_time": "2025-03-13T05:53:44.363519Z"
    }
   },
   "cell_type": "code",
   "source": "type(a)",
   "id": "74b2b094769656c9",
   "outputs": [
    {
     "data": {
      "text/plain": [
       "numpy.ndarray"
      ]
     },
     "execution_count": 6,
     "metadata": {},
     "output_type": "execute_result"
    }
   ],
   "execution_count": 6
  },
  {
   "metadata": {
    "ExecuteTime": {
     "end_time": "2025-03-13T05:53:44.373604Z",
     "start_time": "2025-03-13T05:53:44.368197Z"
    }
   },
   "cell_type": "code",
   "source": [
    "a2d = np.array([[1, 2, 3],\n",
    "                [4, 5, 6]])\n",
    "a2d"
   ],
   "id": "f434ab77b0a096e2",
   "outputs": [
    {
     "data": {
      "text/plain": [
       "array([[1, 2, 3],\n",
       "       [4, 5, 6]])"
      ]
     },
     "execution_count": 7,
     "metadata": {},
     "output_type": "execute_result"
    }
   ],
   "execution_count": 7
  },
  {
   "metadata": {
    "ExecuteTime": {
     "end_time": "2025-03-13T05:53:44.379963Z",
     "start_time": "2025-03-13T05:53:44.374632Z"
    }
   },
   "cell_type": "code",
   "source": [
    "a3d = np.array([\n",
    "    [[1, 2], [3, 4]\n",
    "     ],\n",
    "    [[5, 6], [7, 8]\n",
    "     ]\n",
    "])\n",
    "a3d"
   ],
   "id": "e9eb72334da013a",
   "outputs": [
    {
     "data": {
      "text/plain": [
       "array([[[1, 2],\n",
       "        [3, 4]],\n",
       "\n",
       "       [[5, 6],\n",
       "        [7, 8]]])"
      ]
     },
     "execution_count": 8,
     "metadata": {},
     "output_type": "execute_result"
    }
   ],
   "execution_count": 8
  },
  {
   "metadata": {
    "ExecuteTime": {
     "end_time": "2025-03-13T05:53:44.385298Z",
     "start_time": "2025-03-13T05:53:44.379963Z"
    }
   },
   "cell_type": "code",
   "source": "a3d.dtype",
   "id": "fe27ef71db62adcc",
   "outputs": [
    {
     "data": {
      "text/plain": [
       "dtype('int64')"
      ]
     },
     "execution_count": 9,
     "metadata": {},
     "output_type": "execute_result"
    }
   ],
   "execution_count": 9
  },
  {
   "metadata": {
    "ExecuteTime": {
     "end_time": "2025-03-13T05:53:44.390876Z",
     "start_time": "2025-03-13T05:53:44.385801Z"
    }
   },
   "cell_type": "code",
   "source": [
    "b = np.array([1, 2, 3, 4, 255], dtype=np.uint8)\n",
    "b"
   ],
   "id": "a6edd70e78bcd28c",
   "outputs": [
    {
     "data": {
      "text/plain": [
       "array([  1,   2,   3,   4, 255], dtype=uint8)"
      ]
     },
     "execution_count": 10,
     "metadata": {},
     "output_type": "execute_result"
    }
   ],
   "execution_count": 10
  },
  {
   "metadata": {
    "ExecuteTime": {
     "end_time": "2025-03-13T05:53:44.395649Z",
     "start_time": "2025-03-13T05:53:44.391398Z"
    }
   },
   "cell_type": "code",
   "source": "np.arange(10, 15, 0.2)",
   "id": "49eb829584e80683",
   "outputs": [
    {
     "data": {
      "text/plain": [
       "array([10. , 10.2, 10.4, 10.6, 10.8, 11. , 11.2, 11.4, 11.6, 11.8, 12. ,\n",
       "       12.2, 12.4, 12.6, 12.8, 13. , 13.2, 13.4, 13.6, 13.8, 14. , 14.2,\n",
       "       14.4, 14.6, 14.8])"
      ]
     },
     "execution_count": 11,
     "metadata": {},
     "output_type": "execute_result"
    }
   ],
   "execution_count": 11
  },
  {
   "metadata": {
    "ExecuteTime": {
     "end_time": "2025-03-13T05:53:44.401755Z",
     "start_time": "2025-03-13T05:53:44.396696Z"
    }
   },
   "cell_type": "code",
   "source": "np.arange(10, 15, 2, dtype=float)",
   "id": "eb5b1ee57cfa4ba3",
   "outputs": [
    {
     "data": {
      "text/plain": [
       "array([10., 12., 14.])"
      ]
     },
     "execution_count": 12,
     "metadata": {},
     "output_type": "execute_result"
    }
   ],
   "execution_count": 12
  },
  {
   "metadata": {
    "ExecuteTime": {
     "end_time": "2025-03-13T05:53:44.406414Z",
     "start_time": "2025-03-13T05:53:44.402759Z"
    }
   },
   "cell_type": "code",
   "source": "np.linspace(1, 10, 4)",
   "id": "1ecb410b27a9c2e9",
   "outputs": [
    {
     "data": {
      "text/plain": [
       "array([ 1.,  4.,  7., 10.])"
      ]
     },
     "execution_count": 13,
     "metadata": {},
     "output_type": "execute_result"
    }
   ],
   "execution_count": 13
  },
  {
   "metadata": {
    "ExecuteTime": {
     "end_time": "2025-03-13T05:53:44.411892Z",
     "start_time": "2025-03-13T05:53:44.407264Z"
    }
   },
   "cell_type": "code",
   "source": [
    "b = np.zeros((2, 3))\n",
    "b"
   ],
   "id": "abdd5a330d334fa4",
   "outputs": [
    {
     "data": {
      "text/plain": [
       "array([[0., 0., 0.],\n",
       "       [0., 0., 0.]])"
      ]
     },
     "execution_count": 14,
     "metadata": {},
     "output_type": "execute_result"
    }
   ],
   "execution_count": 14
  },
  {
   "metadata": {
    "ExecuteTime": {
     "end_time": "2025-03-13T05:53:44.417323Z",
     "start_time": "2025-03-13T05:53:44.412911Z"
    }
   },
   "cell_type": "code",
   "source": "b.ndim",
   "id": "7de39d035625bbeb",
   "outputs": [
    {
     "data": {
      "text/plain": [
       "2"
      ]
     },
     "execution_count": 15,
     "metadata": {},
     "output_type": "execute_result"
    }
   ],
   "execution_count": 15
  },
  {
   "metadata": {
    "ExecuteTime": {
     "end_time": "2025-03-13T05:53:44.422987Z",
     "start_time": "2025-03-13T05:53:44.417825Z"
    }
   },
   "cell_type": "code",
   "source": "a3d.ndim",
   "id": "1e4e9b3a6468b0d5",
   "outputs": [
    {
     "data": {
      "text/plain": [
       "3"
      ]
     },
     "execution_count": 16,
     "metadata": {},
     "output_type": "execute_result"
    }
   ],
   "execution_count": 16
  },
  {
   "metadata": {
    "ExecuteTime": {
     "end_time": "2025-03-13T05:53:44.428969Z",
     "start_time": "2025-03-13T05:53:44.422987Z"
    }
   },
   "cell_type": "code",
   "source": [
    "ones = np.ones((2, 3), dtype = int)\n",
    "ones"
   ],
   "id": "38becd21849e8407",
   "outputs": [
    {
     "data": {
      "text/plain": [
       "array([[1, 1, 1],\n",
       "       [1, 1, 1]])"
      ]
     },
     "execution_count": 17,
     "metadata": {},
     "output_type": "execute_result"
    }
   ],
   "execution_count": 17
  },
  {
   "metadata": {
    "ExecuteTime": {
     "end_time": "2025-03-13T05:53:44.433804Z",
     "start_time": "2025-03-13T05:53:44.429471Z"
    }
   },
   "cell_type": "code",
   "source": "ones*7",
   "id": "4063756764095bd",
   "outputs": [
    {
     "data": {
      "text/plain": [
       "array([[7, 7, 7],\n",
       "       [7, 7, 7]])"
      ]
     },
     "execution_count": 18,
     "metadata": {},
     "output_type": "execute_result"
    }
   ],
   "execution_count": 18
  },
  {
   "metadata": {
    "ExecuteTime": {
     "end_time": "2025-03-13T05:53:44.440950Z",
     "start_time": "2025-03-13T05:53:44.433804Z"
    }
   },
   "cell_type": "code",
   "source": [
    "c = np.array([1, \"2\"])\n",
    "c.dtype"
   ],
   "id": "e74b6af032f92452",
   "outputs": [
    {
     "data": {
      "text/plain": [
       "dtype('<U21')"
      ]
     },
     "execution_count": 19,
     "metadata": {},
     "output_type": "execute_result"
    }
   ],
   "execution_count": 19
  },
  {
   "metadata": {
    "ExecuteTime": {
     "end_time": "2025-03-13T05:53:44.445021Z",
     "start_time": "2025-03-13T05:53:44.440950Z"
    }
   },
   "cell_type": "code",
   "source": "c",
   "id": "20b1e6c27797c1b1",
   "outputs": [
    {
     "data": {
      "text/plain": [
       "array(['1', '2'], dtype='<U21')"
      ]
     },
     "execution_count": 20,
     "metadata": {},
     "output_type": "execute_result"
    }
   ],
   "execution_count": 20
  },
  {
   "metadata": {
    "ExecuteTime": {
     "end_time": "2025-03-13T05:53:44.450871Z",
     "start_time": "2025-03-13T05:53:44.446286Z"
    }
   },
   "cell_type": "code",
   "source": [
    "sevens = np.full((2, 3), 7)\n",
    "sevens"
   ],
   "id": "894209670257b35d",
   "outputs": [
    {
     "data": {
      "text/plain": [
       "array([[7, 7, 7],\n",
       "       [7, 7, 7]])"
      ]
     },
     "execution_count": 21,
     "metadata": {},
     "output_type": "execute_result"
    }
   ],
   "execution_count": 21
  },
  {
   "metadata": {
    "ExecuteTime": {
     "end_time": "2025-03-13T05:53:44.455302Z",
     "start_time": "2025-03-13T05:53:44.452072Z"
    }
   },
   "cell_type": "code",
   "source": [
    "empty = np.empty((4, 2))\n",
    "empty"
   ],
   "id": "70abb545e2df8d54",
   "outputs": [
    {
     "data": {
      "text/plain": [
       "array([[0., 0.],\n",
       "       [0., 0.],\n",
       "       [0., 0.],\n",
       "       [0., 0.]])"
      ]
     },
     "execution_count": 22,
     "metadata": {},
     "output_type": "execute_result"
    }
   ],
   "execution_count": 22
  },
  {
   "metadata": {
    "ExecuteTime": {
     "end_time": "2025-03-13T05:53:44.460388Z",
     "start_time": "2025-03-13T05:53:44.455302Z"
    }
   },
   "cell_type": "code",
   "source": "empty.ndim",
   "id": "dca270c38edb0382",
   "outputs": [
    {
     "data": {
      "text/plain": [
       "2"
      ]
     },
     "execution_count": 23,
     "metadata": {},
     "output_type": "execute_result"
    }
   ],
   "execution_count": 23
  },
  {
   "metadata": {
    "ExecuteTime": {
     "end_time": "2025-03-13T05:53:44.466738Z",
     "start_time": "2025-03-13T05:53:44.461388Z"
    }
   },
   "cell_type": "code",
   "source": "np.eye(5, 5)",
   "id": "a9475f8c576a996d",
   "outputs": [
    {
     "data": {
      "text/plain": [
       "array([[1., 0., 0., 0., 0.],\n",
       "       [0., 1., 0., 0., 0.],\n",
       "       [0., 0., 1., 0., 0.],\n",
       "       [0., 0., 0., 1., 0.],\n",
       "       [0., 0., 0., 0., 1.]])"
      ]
     },
     "execution_count": 24,
     "metadata": {},
     "output_type": "execute_result"
    }
   ],
   "execution_count": 24
  },
  {
   "metadata": {
    "ExecuteTime": {
     "end_time": "2025-03-13T05:53:44.471905Z",
     "start_time": "2025-03-13T05:53:44.467738Z"
    }
   },
   "cell_type": "code",
   "source": [
    "data = np.array([1, 2], dtype = int)\n",
    "ones = np.ones(2, dtype = int)\n",
    "data + ones"
   ],
   "id": "821c3e7bae42b928",
   "outputs": [
    {
     "data": {
      "text/plain": [
       "array([2, 3])"
      ]
     },
     "execution_count": 25,
     "metadata": {},
     "output_type": "execute_result"
    }
   ],
   "execution_count": 25
  },
  {
   "metadata": {
    "ExecuteTime": {
     "end_time": "2025-03-13T05:54:10.743422Z",
     "start_time": "2025-03-13T05:54:10.739Z"
    }
   },
   "cell_type": "code",
   "source": [
    "a1 = np.array(1.6)\n",
    "a1.shape"
   ],
   "id": "23a0498441168f34",
   "outputs": [
    {
     "data": {
      "text/plain": [
       "()"
      ]
     },
     "execution_count": 28,
     "metadata": {},
     "output_type": "execute_result"
    }
   ],
   "execution_count": 28
  },
  {
   "metadata": {
    "ExecuteTime": {
     "end_time": "2025-03-13T06:01:09.713660Z",
     "start_time": "2025-03-13T06:01:09.710395Z"
    }
   },
   "cell_type": "code",
   "source": [
    "first = np.array([1, 2, 3], dtype = int)\n",
    "second = np.array([[4], [5], [6]], dtype = int)\n",
    "print(first.shape)\n",
    "print(second.shape)"
   ],
   "id": "d0e2a5795208264c",
   "outputs": [
    {
     "name": "stdout",
     "output_type": "stream",
     "text": [
      "(3,)\n",
      "(3, 1)\n"
     ]
    }
   ],
   "execution_count": 30
  },
  {
   "metadata": {
    "ExecuteTime": {
     "end_time": "2025-03-13T06:19:06.415295Z",
     "start_time": "2025-03-13T06:19:06.403740Z"
    }
   },
   "cell_type": "code",
   "source": [
    "third = first*second\n",
    "third"
   ],
   "id": "6139a4e04b58af51",
   "outputs": [
    {
     "data": {
      "text/plain": [
       "array([[ 4,  8, 12],\n",
       "       [ 5, 10, 15],\n",
       "       [ 6, 12, 18]])"
      ]
     },
     "execution_count": 34,
     "metadata": {},
     "output_type": "execute_result"
    }
   ],
   "execution_count": 34
  },
  {
   "metadata": {
    "ExecuteTime": {
     "end_time": "2025-03-13T06:19:11.837060Z",
     "start_time": "2025-03-13T06:19:11.826972Z"
    }
   },
   "cell_type": "code",
   "source": "third[0, 1]",
   "id": "338f28e1ae5e9ac0",
   "outputs": [
    {
     "data": {
      "text/plain": [
       "np.int64(8)"
      ]
     },
     "execution_count": 35,
     "metadata": {},
     "output_type": "execute_result"
    }
   ],
   "execution_count": 35
  },
  {
   "metadata": {
    "ExecuteTime": {
     "end_time": "2025-03-13T06:27:51.451944Z",
     "start_time": "2025-03-13T06:27:51.442683Z"
    }
   },
   "cell_type": "code",
   "source": "third[0:2, 0]",
   "id": "1ab199460757759b",
   "outputs": [
    {
     "data": {
      "text/plain": [
       "array([4, 5])"
      ]
     },
     "execution_count": 36,
     "metadata": {},
     "output_type": "execute_result"
    }
   ],
   "execution_count": 36
  },
  {
   "metadata": {
    "ExecuteTime": {
     "end_time": "2025-03-13T06:28:37.352642Z",
     "start_time": "2025-03-13T06:28:37.345055Z"
    }
   },
   "cell_type": "code",
   "source": "third[0:2][0]",
   "id": "41471ba4c37373ee",
   "outputs": [
    {
     "data": {
      "text/plain": [
       "array([ 4,  8, 12])"
      ]
     },
     "execution_count": 37,
     "metadata": {},
     "output_type": "execute_result"
    }
   ],
   "execution_count": 37
  },
  {
   "metadata": {
    "ExecuteTime": {
     "end_time": "2025-03-13T06:40:01.714873Z",
     "start_time": "2025-03-13T06:40:01.706934Z"
    }
   },
   "cell_type": "code",
   "source": "third[::2, ::2]",
   "id": "ac5fa5272f5b9c45",
   "outputs": [
    {
     "data": {
      "text/plain": [
       "array([[ 4, 12],\n",
       "       [ 6, 18]])"
      ]
     },
     "execution_count": 43,
     "metadata": {},
     "output_type": "execute_result"
    }
   ],
   "execution_count": 43
  },
  {
   "metadata": {},
   "cell_type": "code",
   "outputs": [],
   "execution_count": null,
   "source": "",
   "id": "6b6c71e4cf4d43bf"
  }
 ],
 "metadata": {
  "kernelspec": {
   "display_name": "Python 3",
   "language": "python",
   "name": "python3"
  },
  "language_info": {
   "codemirror_mode": {
    "name": "ipython",
    "version": 2
   },
   "file_extension": ".py",
   "mimetype": "text/x-python",
   "name": "python",
   "nbconvert_exporter": "python",
   "pygments_lexer": "ipython2",
   "version": "2.7.6"
  }
 },
 "nbformat": 4,
 "nbformat_minor": 5
}
