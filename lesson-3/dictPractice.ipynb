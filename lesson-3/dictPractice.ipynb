{
 "cells": [
  {
   "cell_type": "code",
   "id": "initial_id",
   "metadata": {
    "collapsed": true,
    "ExecuteTime": {
     "end_time": "2025-03-14T16:13:48.945728Z",
     "start_time": "2025-03-14T16:13:48.935133Z"
    }
   },
   "source": [
    "def get_value(dictionary, key, default=None):\n",
    "    return dictionary.get(key, default)\n",
    "my_dict = {\"name\": \"Azamat\", \"age\": 20, \"city\": \"Tashkent\"}\n",
    "print(get_value(my_dict, \"age\"))\n",
    "print(get_value(my_dict, \"country\", \"Not Found\"))\n"
   ],
   "outputs": [
    {
     "name": "stdout",
     "output_type": "stream",
     "text": [
      "20\n",
      "Not Found\n"
     ]
    }
   ],
   "execution_count": 2
  },
  {
   "metadata": {
    "ExecuteTime": {
     "end_time": "2025-03-14T16:15:11.969004Z",
     "start_time": "2025-03-14T16:15:11.957936Z"
    }
   },
   "cell_type": "code",
   "source": [
    "def checkKey(dictionary, key):\n",
    "    if key in dictionary:\n",
    "        return True\n",
    "    return False\n",
    "my_dict = {\"name\": \"Azamat\", \"age\": 20, \"city\": \"Tashkent\"}\n",
    "print(checkKey(my_dict, \"hi\"))"
   ],
   "id": "5762e7b632b3a0c6",
   "outputs": [
    {
     "name": "stdout",
     "output_type": "stream",
     "text": [
      "False\n"
     ]
    }
   ],
   "execution_count": 4
  },
  {
   "metadata": {
    "ExecuteTime": {
     "end_time": "2025-03-14T16:17:07.903836Z",
     "start_time": "2025-03-14T16:17:07.895071Z"
    }
   },
   "cell_type": "code",
   "source": [
    "def countKeys(dictionary):\n",
    "    count = 0\n",
    "    for key in dictionary:\n",
    "        count += 1\n",
    "    return count\n",
    "my_dict = {\"name\": \"Azamat\", \"age\": 20, \"city\": \"Tashkent\"}\n",
    "print(countKeys(my_dict))  "
   ],
   "id": "79ddc3c562d6b923",
   "outputs": [
    {
     "name": "stdout",
     "output_type": "stream",
     "text": [
      "3\n"
     ]
    }
   ],
   "execution_count": 5
  },
  {
   "metadata": {
    "ExecuteTime": {
     "end_time": "2025-03-14T16:18:15.057035Z",
     "start_time": "2025-03-14T16:18:15.048879Z"
    }
   },
   "cell_type": "code",
   "source": [
    "def getKeys(dictionary):\n",
    "    lst = []\n",
    "    for key in dictionary:\n",
    "        lst.append(key)\n",
    "    return lst\n",
    "my_dict = {\"name\": \"Azamat\", \"age\": 20, \"city\": \"Tashkent\"}\n",
    "print(getKeys(my_dict))"
   ],
   "id": "f26b546a0622f92b",
   "outputs": [
    {
     "name": "stdout",
     "output_type": "stream",
     "text": [
      "['name', 'age', 'city']\n"
     ]
    }
   ],
   "execution_count": 6
  },
  {
   "metadata": {
    "ExecuteTime": {
     "end_time": "2025-03-14T16:19:10.811943Z",
     "start_time": "2025-03-14T16:19:10.803852Z"
    }
   },
   "cell_type": "code",
   "source": [
    "def getValues(dictionary):\n",
    "    lst = []\n",
    "    for key, value in dictionary.items():\n",
    "        lst.append(value)\n",
    "    return lst\n",
    "my_dict = {\"name\": \"Azamat\", \"age\": 20, \"city\": \"Tashkent\"}\n",
    "print(getValues(my_dict))"
   ],
   "id": "6bdd8c86d903b97f",
   "outputs": [
    {
     "name": "stdout",
     "output_type": "stream",
     "text": [
      "['Azamat', 20, 'Tashkent']\n"
     ]
    }
   ],
   "execution_count": 7
  },
  {
   "metadata": {
    "ExecuteTime": {
     "end_time": "2025-03-14T16:22:13.751901Z",
     "start_time": "2025-03-14T16:22:13.744541Z"
    }
   },
   "cell_type": "code",
   "source": [
    "def mergeDicts(dict1, dict2):\n",
    "    merged = {**dict1, **dict2}\n",
    "    return merged\n",
    "d1 = {\"name\": \"Azamat\", \"age\": 20, \"city\": \"Tashkent\"}\n",
    "d2 = {\"hh\": \"Azamat\", \"age\": 20, \"city\": \"Tashkent\"}\n",
    "d3 = mergeDicts(d1, d2)\n",
    "print(d3)"
   ],
   "id": "fda5745ea16ec955",
   "outputs": [
    {
     "name": "stdout",
     "output_type": "stream",
     "text": [
      "{'name': 'Azamat', 'age': 20, 'city': 'Tashkent', 'hh': 'Azamat'}\n"
     ]
    }
   ],
   "execution_count": 11
  },
  {
   "metadata": {
    "ExecuteTime": {
     "end_time": "2025-03-14T16:24:06.910744Z",
     "start_time": "2025-03-14T16:24:06.904613Z"
    }
   },
   "cell_type": "code",
   "source": [
    "def removeKey(dictionary, key):\n",
    "    dictionary.pop(key, None)\n",
    "    return dictionary\n",
    "my_dict = {\"name\": \"Azamat\", \"age\": 20, \"city\": \"Tashkent\"}\n",
    "print(removeKey(my_dict, \"name\"))"
   ],
   "id": "323a5df0d70285ec",
   "outputs": [
    {
     "name": "stdout",
     "output_type": "stream",
     "text": [
      "{'age': 20, 'city': 'Tashkent'}\n"
     ]
    }
   ],
   "execution_count": 13
  },
  {
   "metadata": {
    "ExecuteTime": {
     "end_time": "2025-03-14T16:24:59.761526Z",
     "start_time": "2025-03-14T16:24:59.756088Z"
    }
   },
   "cell_type": "code",
   "source": [
    "def clearDict(dictionary):\n",
    "    return {}\n",
    "my_dict = {\"name\": \"Azamat\", \"age\": 20, \"city\": \"Tashkent\"}\n",
    "print(clearDict(my_dict))"
   ],
   "id": "5c1f0be914d2a792",
   "outputs": [
    {
     "name": "stdout",
     "output_type": "stream",
     "text": [
      "{}\n"
     ]
    }
   ],
   "execution_count": 15
  },
  {
   "metadata": {
    "ExecuteTime": {
     "end_time": "2025-03-14T16:25:43.169572Z",
     "start_time": "2025-03-14T16:25:43.154865Z"
    }
   },
   "cell_type": "code",
   "source": [
    "def isEmpty(dictionary):\n",
    "    if dictionary == {}:\n",
    "        return True\n",
    "    return False\n",
    "my_dict = {\"name\": \"Azamat\", \"age\": 20, \"city\": \"Tashkent\"}\n",
    "print(isEmpty(my_dict))"
   ],
   "id": "d532810d830dab2e",
   "outputs": [
    {
     "name": "stdout",
     "output_type": "stream",
     "text": [
      "False\n"
     ]
    }
   ],
   "execution_count": 16
  },
  {
   "metadata": {
    "ExecuteTime": {
     "end_time": "2025-03-14T16:28:38.849108Z",
     "start_time": "2025-03-14T16:28:38.840034Z"
    }
   },
   "cell_type": "code",
   "source": [
    "def keyValuePairs(dictionary, key):\n",
    "    return [key, dictionary[key] if key in dictionary else None]\n",
    "my_dict = {\"name\": \"Azamat\", \"age\": 20, \"city\": \"Tashkent\"}\n",
    "print(keyValuePairs(my_dict, \"aaa\"))"
   ],
   "id": "769c686e38a5a679",
   "outputs": [
    {
     "name": "stdout",
     "output_type": "stream",
     "text": [
      "['aaa', None]\n"
     ]
    }
   ],
   "execution_count": 18
  },
  {
   "metadata": {
    "ExecuteTime": {
     "end_time": "2025-03-14T16:30:18.042836Z",
     "start_time": "2025-03-14T16:30:18.024763Z"
    }
   },
   "cell_type": "code",
   "source": [
    "def updateValue(dictionary, key, thing):\n",
    "    dictionary[key] = thing\n",
    "    return dictionary\n",
    "my_dict = {\"name\": \"Azamat\", \"age\": 20, \"city\": \"Tashkent\"}\n",
    "updateValue(my_dict, \"city\", \"Samarkand\")"
   ],
   "id": "86892d2c9a76fec2",
   "outputs": [
    {
     "data": {
      "text/plain": [
       "{'name': 'Azamat', 'age': 20, 'city': 'Samarkand'}"
      ]
     },
     "execution_count": 19,
     "metadata": {},
     "output_type": "execute_result"
    }
   ],
   "execution_count": 19
  },
  {
   "metadata": {
    "ExecuteTime": {
     "end_time": "2025-03-14T16:33:45.992839Z",
     "start_time": "2025-03-14T16:33:45.984055Z"
    }
   },
   "cell_type": "code",
   "source": [
    "def countValueOccurences(dictionary, searched):\n",
    "    count = 0\n",
    "    for key, value in dictionary.items():\n",
    "        if value == searched:\n",
    "            count += 1\n",
    "    return count\n",
    "my_dict = {\"name\": \"Azamat\", \"age\": 20, \"city\": \"Tashkent\"}\n",
    "print(countValueOccurences(my_dict, \"Azamat\"))"
   ],
   "id": "e41cef1c47ce6db4",
   "outputs": [
    {
     "name": "stdout",
     "output_type": "stream",
     "text": [
      "1\n"
     ]
    }
   ],
   "execution_count": 21
  },
  {
   "metadata": {
    "ExecuteTime": {
     "end_time": "2025-03-14T16:35:28.959914Z",
     "start_time": "2025-03-14T16:35:28.948571Z"
    }
   },
   "cell_type": "code",
   "source": [
    "def inverter(dictionary):\n",
    "    return {value: key for key, value in dictionary.items()}\n",
    "my_dict = {\"name\": \"Azamat\", \"age\": 20, \"city\": \"Tashkent\"}\n",
    "print(inverter(my_dict))"
   ],
   "id": "8572a9dbe8864dec",
   "outputs": [
    {
     "name": "stdout",
     "output_type": "stream",
     "text": [
      "{'Azamat': 'name', 20: 'age', 'Tashkent': 'city'}\n"
     ]
    }
   ],
   "execution_count": 22
  },
  {
   "metadata": {
    "ExecuteTime": {
     "end_time": "2025-03-15T09:06:08.727961Z",
     "start_time": "2025-03-15T09:06:08.721224Z"
    }
   },
   "cell_type": "code",
   "source": [
    "def inverter2(dictionary):\n",
    "    return {value : key for key, value in dictionary.items()}\n",
    "my_dict = {\"name\": \"Azamat\", \"age\": 20, \"city\": \"Tashkent\"}\n",
    "print(inverter2(my_dict))"
   ],
   "id": "16dc80e0706bebe6",
   "outputs": [
    {
     "name": "stdout",
     "output_type": "stream",
     "text": [
      "{'Azamat': 'name', 20: 'age', 'Tashkent': 'city'}\n"
     ]
    }
   ],
   "execution_count": 2
  },
  {
   "metadata": {
    "ExecuteTime": {
     "end_time": "2025-03-14T16:43:00.512795Z",
     "start_time": "2025-03-14T16:43:00.502728Z"
    }
   },
   "cell_type": "code",
   "source": [
    "def keysWithValues(dictionary, val):\n",
    "    lst = []\n",
    "    for key, value in dictionary.items():\n",
    "        if value == val:\n",
    "            lst.append(key)\n",
    "    return lst\n",
    "my_dict = {\"name\": \"Tashkent\", \"age\": 20, \"city\": \"Tashkent\"}\n",
    "print(keysWithValues(my_dict, \"Tashkent\"))"
   ],
   "id": "c17d520f05fb4984",
   "outputs": [
    {
     "name": "stdout",
     "output_type": "stream",
     "text": [
      "['name', 'city']\n"
     ]
    }
   ],
   "execution_count": 24
  },
  {
   "metadata": {
    "ExecuteTime": {
     "end_time": "2025-03-14T16:44:44.817347Z",
     "start_time": "2025-03-14T16:44:44.804905Z"
    }
   },
   "cell_type": "code",
   "source": [
    "def keysWithValues2(dictionary, val):\n",
    "    return [key for key, value in dictionary.items() if value == val]\n",
    "my_dict = {\"name\": \"Tashkent\", \"age\": 20, \"city\": \"Tashkent\"}\n",
    "print(keysWithValues(my_dict, \"Tashkent\"))"
   ],
   "id": "ee2a4932a0f1fc71",
   "outputs": [
    {
     "name": "stdout",
     "output_type": "stream",
     "text": [
      "['name', 'city']\n"
     ]
    }
   ],
   "execution_count": 25
  },
  {
   "metadata": {
    "ExecuteTime": {
     "end_time": "2025-03-14T16:47:25.047882Z",
     "start_time": "2025-03-14T16:47:25.039731Z"
    }
   },
   "cell_type": "code",
   "source": [
    "def dictFromLists(l1, l2):\n",
    "    return dict(zip(l1, l2))\n",
    "print(dictFromLists([1,2,3],[3,4,5]))"
   ],
   "id": "82996be77955f546",
   "outputs": [
    {
     "name": "stdout",
     "output_type": "stream",
     "text": [
      "{1: 3, 2: 4, 3: 5}\n"
     ]
    }
   ],
   "execution_count": 27
  },
  {
   "metadata": {
    "ExecuteTime": {
     "end_time": "2025-03-14T16:56:37.154354Z",
     "start_time": "2025-03-14T16:56:37.140515Z"
    }
   },
   "cell_type": "code",
   "source": [
    "def isNested(dictionary):\n",
    "    return any(isinstance(value, dict) for value in dictionary.values())\n",
    "my_dict = {\"name\": \"Azamat\", \"age\": 20, \"city\": \"Tashkent\"}\n",
    "print(isNested(my_dict))"
   ],
   "id": "50e876a0e7e2841c",
   "outputs": [
    {
     "name": "stdout",
     "output_type": "stream",
     "text": [
      "False\n"
     ]
    }
   ],
   "execution_count": 28
  },
  {
   "metadata": {
    "ExecuteTime": {
     "end_time": "2025-03-15T09:08:48.761260Z",
     "start_time": "2025-03-15T09:08:48.752736Z"
    }
   },
   "cell_type": "code",
   "source": [
    "def isNestedOrNot(dictionary):\n",
    "    return any(isinstance(value, dict) for value in dictionary.values())\n",
    "my_dict = {\"name\": \"Azamat\", \"age\": 20, \"city\": \"Tashkent\"}\n",
    "print(isNestedOrNot(my_dict))"
   ],
   "id": "7ce5f5f791dfcd2c",
   "outputs": [
    {
     "name": "stdout",
     "output_type": "stream",
     "text": [
      "False\n"
     ]
    }
   ],
   "execution_count": 3
  },
  {
   "metadata": {
    "ExecuteTime": {
     "end_time": "2025-03-15T09:15:34.235467Z",
     "start_time": "2025-03-15T09:15:34.225100Z"
    }
   },
   "cell_type": "code",
   "source": [
    "from collections import defaultdict\n",
    "def create_default_dict(default_value):\n",
    "    return defaultdict(lambda: default_value)\n",
    "d = create_default_dict(0)\n",
    "print(d['a'])"
   ],
   "id": "715811fdf6c13f2c",
   "outputs": [
    {
     "name": "stdout",
     "output_type": "stream",
     "text": [
      "0\n"
     ]
    }
   ],
   "execution_count": 10
  },
  {
   "metadata": {
    "ExecuteTime": {
     "end_time": "2025-03-15T09:20:35.133275Z",
     "start_time": "2025-03-15T09:20:35.125988Z"
    }
   },
   "cell_type": "code",
   "source": [
    "def getNestedValue(dictionary, val1, val2):\n",
    "    return dictionary.get(val1, {}).get(val2, {})\n",
    "print(getNestedValue({\"a\":{\"b\":1}}, \"a\", \"b\"))"
   ],
   "id": "a3a844c047a5d7e3",
   "outputs": [
    {
     "name": "stdout",
     "output_type": "stream",
     "text": [
      "1\n"
     ]
    }
   ],
   "execution_count": 12
  },
  {
   "metadata": {
    "ExecuteTime": {
     "end_time": "2025-03-15T09:21:58.923501Z",
     "start_time": "2025-03-15T09:21:58.916567Z"
    }
   },
   "cell_type": "code",
   "source": [
    "def getValue(dictionary, key, default=None):\n",
    "    return dictionary.get(key, default)\n",
    "my_dict = {\"name\": \"Azamat\", \"age\": 20, \"city\": \"Tashkent\"}\n",
    "print(getValue(my_dict, \"name\"))"
   ],
   "id": "86ab84174f295c29",
   "outputs": [
    {
     "name": "stdout",
     "output_type": "stream",
     "text": [
      "Azamat\n"
     ]
    }
   ],
   "execution_count": 14
  },
  {
   "metadata": {
    "ExecuteTime": {
     "end_time": "2025-03-15T09:26:18.897457Z",
     "start_time": "2025-03-15T09:26:18.887483Z"
    }
   },
   "cell_type": "code",
   "source": [
    "def getKey(dictionary, valu):\n",
    "    thing = 0\n",
    "    for key, value in dictionary.items():\n",
    "        if value == valu:\n",
    "            thing = key\n",
    "    return thing\n",
    "my_dict = {\"name\": \"Azamat\", \"age\": 20, \"city\": \"Tashkent\"}\n",
    "print(getKey(my_dict, \"Tashkent\"))"
   ],
   "id": "f210b3e8822bcbd4",
   "outputs": [
    {
     "name": "stdout",
     "output_type": "stream",
     "text": [
      "city\n"
     ]
    }
   ],
   "execution_count": 17
  },
  {
   "metadata": {
    "ExecuteTime": {
     "end_time": "2025-03-15T09:29:53.452593Z",
     "start_time": "2025-03-15T09:29:53.445489Z"
    }
   },
   "cell_type": "code",
   "source": [
    "def get_key(dictionary, value):\n",
    "    for key, val in dictionary.items():\n",
    "        if val == value:\n",
    "            return key\n",
    "    return None  # Explicitly return None if the value is not found\n",
    "\n",
    "my_dict = {\"name\": \"Azamat\", \"age\": 20, \"city\": \"Tashkent\"}\n",
    "print(get_key(my_dict, \"Tashkent\"))\n"
   ],
   "id": "d38e61d8cfe6e7a7",
   "outputs": [
    {
     "name": "stdout",
     "output_type": "stream",
     "text": [
      "city\n"
     ]
    }
   ],
   "execution_count": 22
  },
  {
   "metadata": {
    "ExecuteTime": {
     "end_time": "2025-03-15T09:34:57.695203Z",
     "start_time": "2025-03-15T09:34:57.684981Z"
    }
   },
   "cell_type": "code",
   "source": [
    "from collections import defaultdict \n",
    "def create_default_dict(default_value):\n",
    "    return defaultdict(lambda: default_value)\n",
    "diction = create_default_dict(\"NOT FOUND\")\n",
    "diction[\"age\"] = 20\n",
    "print(diction[\"age\"])"
   ],
   "id": "9bdd789f330f1eb5",
   "outputs": [
    {
     "name": "stdout",
     "output_type": "stream",
     "text": [
      "20\n"
     ]
    }
   ],
   "execution_count": 24
  },
  {
   "metadata": {
    "ExecuteTime": {
     "end_time": "2025-03-15T09:36:44.376510Z",
     "start_time": "2025-03-15T09:36:44.359085Z"
    }
   },
   "cell_type": "code",
   "source": [
    "def uniqueValues(dictionary):\n",
    "    lst = []\n",
    "    counter = 0\n",
    "    for key, value in dictionary.items():\n",
    "        if value not in lst:\n",
    "            lst.append(value)\n",
    "            counter += 1\n",
    "    return counter\n",
    "my_dict = {\"name\": \"Azamat\", \"age\": 20, \"city\": \"Azamat\"}\n",
    "print(uniqueValues(my_dict))"
   ],
   "id": "3c1704ad85397d01",
   "outputs": [
    {
     "name": "stdout",
     "output_type": "stream",
     "text": [
      "2\n"
     ]
    }
   ],
   "execution_count": 25
  },
  {
   "metadata": {
    "ExecuteTime": {
     "end_time": "2025-03-15T09:48:22.402068Z",
     "start_time": "2025-03-15T09:48:22.395540Z"
    }
   },
   "cell_type": "code",
   "source": [
    "def sortByKey(dictionary):\n",
    "    return dict(sorted(dictionary.items()))\n",
    "my_dict = {\"name\": \"Azamat\", \"age\": 20, \"city\": \"New York\"}\n",
    "print(sortByKey(my_dict))"
   ],
   "id": "11167da58e50c4d3",
   "outputs": [
    {
     "name": "stdout",
     "output_type": "stream",
     "text": [
      "{'age': 20, 'city': 'New York', 'name': 'Azamat'}\n"
     ]
    }
   ],
   "execution_count": 26
  },
  {
   "metadata": {
    "ExecuteTime": {
     "end_time": "2025-03-15T09:49:53.044165Z",
     "start_time": "2025-03-15T09:49:53.035738Z"
    }
   },
   "cell_type": "code",
   "source": [
    "def sort_dict_by_value(dictionary):\n",
    "    return dict(sorted(dictionary.items(), key=lambda item: item[1]))\n",
    "print(sort_dict_by_value({\"c\": 1, \"b\": 2, \"a\": 3}))"
   ],
   "id": "c1ce5db94f8ef996",
   "outputs": [
    {
     "name": "stdout",
     "output_type": "stream",
     "text": [
      "{'c': 1, 'b': 2, 'a': 3}\n"
     ]
    }
   ],
   "execution_count": 29
  },
  {
   "metadata": {
    "ExecuteTime": {
     "end_time": "2025-03-15T09:56:46.551336Z",
     "start_time": "2025-03-15T09:56:46.546828Z"
    }
   },
   "cell_type": "code",
   "source": [
    "def filterByValue(dictionary, val):\n",
    "    newish = {}\n",
    "    for key, value in dictionary.items():\n",
    "        if value > val:\n",
    "            newish[key] = value\n",
    "    return newish\n",
    "d  = {\"C\": 1, \"B\": 2, \"A\": 3}\n",
    "print(filterByValue(d, 1))"
   ],
   "id": "8691e87245d1bb3f",
   "outputs": [
    {
     "name": "stdout",
     "output_type": "stream",
     "text": [
      "{'B': 2, 'A': 3}\n"
     ]
    }
   ],
   "execution_count": 30
  },
  {
   "metadata": {
    "ExecuteTime": {
     "end_time": "2025-03-15T10:01:10.654198Z",
     "start_time": "2025-03-15T10:01:10.650991Z"
    }
   },
   "cell_type": "code",
   "source": [
    "def checkCommonKeys(d1, d2):\n",
    "    return bool(d1.keys() & d2.keys())\n",
    "d1 = {\"C\": 1, \"B\": 2, \"A\": 3}\n",
    "d2 = {\"C\": 1, \"B\": 2, \"A\": 3}\n",
    "print(checkCommonKeys(d1, d2))"
   ],
   "id": "34512a87b69ba59a",
   "outputs": [
    {
     "name": "stdout",
     "output_type": "stream",
     "text": [
      "True\n"
     ]
    }
   ],
   "execution_count": 35
  },
  {
   "metadata": {
    "ExecuteTime": {
     "end_time": "2025-03-15T10:02:24.015140Z",
     "start_time": "2025-03-15T10:02:24.011670Z"
    }
   },
   "cell_type": "code",
   "source": [
    "def dictFromTuple(tup):\n",
    "    return dict(tup)\n",
    "print(dictFromTuple([('a', 1), ('b', 2)]))"
   ],
   "id": "b14cb2dd9f935e5b",
   "outputs": [
    {
     "name": "stdout",
     "output_type": "stream",
     "text": [
      "{'a': 1, 'b': 2}\n"
     ]
    }
   ],
   "execution_count": 37
  },
  {
   "metadata": {
    "ExecuteTime": {
     "end_time": "2025-03-15T10:04:30.232693Z",
     "start_time": "2025-03-15T10:04:30.229566Z"
    }
   },
   "cell_type": "code",
   "source": [
    "def get_first_pair(dictionary):\n",
    "    for key, value in dictionary.items():\n",
    "        return key, value  \n",
    "\n",
    "my_dict = {\"name\": \"Azamat\", \"age\": 20, \"city\": \"Tashkent\"}\n",
    "print(get_first_pair(my_dict)) \n"
   ],
   "id": "dac7b8eb2c4008a9",
   "outputs": [
    {
     "name": "stdout",
     "output_type": "stream",
     "text": [
      "('name', 'Azamat')\n"
     ]
    }
   ],
   "execution_count": 40
  },
  {
   "metadata": {},
   "cell_type": "code",
   "outputs": [],
   "execution_count": null,
   "source": "",
   "id": "24572b12b177e78c"
  }
 ],
 "metadata": {
  "kernelspec": {
   "display_name": "Python 3",
   "language": "python",
   "name": "python3"
  },
  "language_info": {
   "codemirror_mode": {
    "name": "ipython",
    "version": 2
   },
   "file_extension": ".py",
   "mimetype": "text/x-python",
   "name": "python",
   "nbconvert_exporter": "python",
   "pygments_lexer": "ipython2",
   "version": "2.7.6"
  }
 },
 "nbformat": 4,
 "nbformat_minor": 5
}
