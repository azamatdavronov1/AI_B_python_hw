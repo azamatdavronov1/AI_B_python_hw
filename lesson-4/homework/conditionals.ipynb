{
 "cells": [
  {
   "cell_type": "code",
   "id": "initial_id",
   "metadata": {
    "collapsed": true,
    "ExecuteTime": {
     "end_time": "2025-02-17T15:48:15.869364Z",
     "start_time": "2025-02-17T15:48:15.865510Z"
    }
   },
   "source": [
    "def returnUncommons(list1, list2):\n",
    "    listNew = []\n",
    "    for i in list1:\n",
    "        if i not in list2:\n",
    "            listNew.append(i)\n",
    "    for j in list2:\n",
    "        if j not in list1:\n",
    "            listNew.append(j)\n",
    "    return listNew\n",
    "list1 = [1, 1, 2]\n",
    "list2 = [2, 3, 4]\n",
    "print(returnUncommons(list1, list2))\n",
    "            "
   ],
   "outputs": [
    {
     "name": "stdout",
     "output_type": "stream",
     "text": [
      "[1, 1, 3, 4]\n"
     ]
    }
   ],
   "execution_count": 20
  },
  {
   "metadata": {
    "ExecuteTime": {
     "end_time": "2025-02-17T15:48:16.726287Z",
     "start_time": "2025-02-17T15:48:16.722488Z"
    }
   },
   "cell_type": "code",
   "source": [
    "list1 = [1, 2, 3]\n",
    "list2 = [4, 5, 6]\n",
    "print(returnUncommons(list1, list2))"
   ],
   "id": "78f83aafa98176f5",
   "outputs": [
    {
     "name": "stdout",
     "output_type": "stream",
     "text": [
      "[1, 2, 3, 4, 5, 6]\n"
     ]
    }
   ],
   "execution_count": 21
  },
  {
   "metadata": {
    "ExecuteTime": {
     "end_time": "2025-02-17T15:48:17.361920Z",
     "start_time": "2025-02-17T15:48:17.358412Z"
    }
   },
   "cell_type": "code",
   "source": [
    "list1 = [1, 1, 2, 3, 4, 2]\n",
    "list2 = [1, 3, 4, 5]\n",
    "print(returnUncommons(list1, list2))"
   ],
   "id": "a7abce5e39e5daa0",
   "outputs": [
    {
     "name": "stdout",
     "output_type": "stream",
     "text": [
      "[2, 2, 5]\n"
     ]
    }
   ],
   "execution_count": 22
  },
  {
   "metadata": {},
   "cell_type": "code",
   "outputs": [],
   "execution_count": null,
   "source": "",
   "id": "41a168c4ae28a9d"
  }
 ],
 "metadata": {
  "kernelspec": {
   "display_name": "Python 3",
   "language": "python",
   "name": "python3"
  },
  "language_info": {
   "codemirror_mode": {
    "name": "ipython",
    "version": 2
   },
   "file_extension": ".py",
   "mimetype": "text/x-python",
   "name": "python",
   "nbconvert_exporter": "python",
   "pygments_lexer": "ipython2",
   "version": "2.7.6"
  }
 },
 "nbformat": 4,
 "nbformat_minor": 5
}
